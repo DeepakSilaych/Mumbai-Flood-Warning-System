{
 "cells": [
  {
   "cell_type": "code",
   "execution_count": 1,
   "id": "cfc107b1",
   "metadata": {
    "execution": {
     "iopub.execute_input": "2023-07-27T09:07:06.400336Z",
     "iopub.status.busy": "2023-07-27T09:07:06.399309Z",
     "iopub.status.idle": "2023-07-27T09:07:06.517115Z",
     "shell.execute_reply": "2023-07-27T09:07:06.516906Z"
    }
   },
   "outputs": [],
   "source": [
    "import pygrib"
   ]
  },
  {
   "cell_type": "code",
   "execution_count": 2,
   "id": "6c5905b7",
   "metadata": {
    "execution": {
     "iopub.execute_input": "2023-07-27T09:07:06.519143Z",
     "iopub.status.busy": "2023-07-27T09:07:06.519143Z",
     "iopub.status.idle": "2023-07-27T09:07:06.738477Z",
     "shell.execute_reply": "2023-07-27T09:07:06.738477Z"
    }
   },
   "outputs": [],
   "source": [
    "import pandas as pd"
   ]
  },
  {
   "cell_type": "code",
   "execution_count": 3,
   "id": "f142a54f",
   "metadata": {
    "execution": {
     "iopub.execute_input": "2023-07-27T09:07:06.740507Z",
     "iopub.status.busy": "2023-07-27T09:07:06.740507Z",
     "iopub.status.idle": "2023-07-27T09:07:06.742567Z",
     "shell.execute_reply": "2023-07-27T09:07:06.742567Z"
    }
   },
   "outputs": [],
   "source": [
    "from datetime import timedelta"
   ]
  },
  {
   "cell_type": "code",
   "execution_count": 4,
   "id": "9b5243ff",
   "metadata": {
    "execution": {
     "iopub.execute_input": "2023-07-27T09:07:06.743604Z",
     "iopub.status.busy": "2023-07-27T09:07:06.743604Z",
     "iopub.status.idle": "2023-07-27T09:07:06.745971Z",
     "shell.execute_reply": "2023-07-27T09:07:06.745971Z"
    }
   },
   "outputs": [],
   "source": [
    "import os"
   ]
  },
  {
   "cell_type": "code",
   "execution_count": 5,
   "id": "75e9de59",
   "metadata": {
    "execution": {
     "iopub.execute_input": "2023-07-27T09:07:06.747002Z",
     "iopub.status.busy": "2023-07-27T09:07:06.747002Z",
     "iopub.status.idle": "2023-07-27T09:07:06.749350Z",
     "shell.execute_reply": "2023-07-27T09:07:06.749350Z"
    }
   },
   "outputs": [],
   "source": [
    "import datetime as dt"
   ]
  },
  {
   "cell_type": "code",
   "execution_count": 6,
   "id": "578111a4",
   "metadata": {
    "execution": {
     "iopub.execute_input": "2023-07-27T09:07:06.750390Z",
     "iopub.status.busy": "2023-07-27T09:07:06.750390Z",
     "iopub.status.idle": "2023-07-27T09:07:06.753085Z",
     "shell.execute_reply": "2023-07-27T09:07:06.752762Z"
    }
   },
   "outputs": [],
   "source": [
    "import numpy as np"
   ]
  },
  {
   "cell_type": "code",
   "execution_count": 7,
   "id": "cda3cb71",
   "metadata": {
    "execution": {
     "iopub.execute_input": "2023-07-27T09:07:06.754087Z",
     "iopub.status.busy": "2023-07-27T09:07:06.754087Z",
     "iopub.status.idle": "2023-07-27T09:07:07.010712Z",
     "shell.execute_reply": "2023-07-27T09:07:07.010352Z"
    }
   },
   "outputs": [],
   "source": [
    "import matplotlib.pyplot as plt"
   ]
  },
  {
   "cell_type": "code",
   "execution_count": 8,
   "id": "4d95877c",
   "metadata": {
    "execution": {
     "iopub.execute_input": "2023-07-27T09:07:07.011744Z",
     "iopub.status.busy": "2023-07-27T09:07:07.011744Z",
     "iopub.status.idle": "2023-07-27T09:07:07.014335Z",
     "shell.execute_reply": "2023-07-27T09:07:07.014335Z"
    }
   },
   "outputs": [],
   "source": [
    "from matplotlib.lines import Line2D"
   ]
  },
  {
   "cell_type": "code",
   "execution_count": 9,
   "id": "6e6b67ea",
   "metadata": {
    "execution": {
     "iopub.execute_input": "2023-07-27T09:07:07.015329Z",
     "iopub.status.busy": "2023-07-27T09:07:07.015329Z",
     "iopub.status.idle": "2023-07-27T09:07:07.017731Z",
     "shell.execute_reply": "2023-07-27T09:07:07.017731Z"
    }
   },
   "outputs": [],
   "source": [
    "from matplotlib.ticker import MaxNLocator "
   ]
  },
  {
   "cell_type": "code",
   "execution_count": 10,
   "id": "4133cd92",
   "metadata": {
    "execution": {
     "iopub.execute_input": "2023-07-27T09:07:07.018725Z",
     "iopub.status.busy": "2023-07-27T09:07:07.018725Z",
     "iopub.status.idle": "2023-07-27T09:07:07.021102Z",
     "shell.execute_reply": "2023-07-27T09:07:07.021102Z"
    }
   },
   "outputs": [],
   "source": [
    "import pickle"
   ]
  },
  {
   "cell_type": "code",
   "execution_count": 11,
   "id": "8e0082d3",
   "metadata": {},
   "outputs": [],
   "source": [
    "import matplotlib.dates as mdates"
   ]
  },
  {
   "cell_type": "code",
   "execution_count": 12,
   "id": "1c7c6ad6",
   "metadata": {
    "execution": {
     "iopub.execute_input": "2023-07-27T09:07:07.022097Z",
     "iopub.status.busy": "2023-07-27T09:07:07.022097Z",
     "iopub.status.idle": "2023-07-27T09:07:07.024462Z",
     "shell.execute_reply": "2023-07-27T09:07:07.024307Z"
    },
    "scrolled": true
   },
   "outputs": [],
   "source": [
    "forecast_hr = np.arange(15,85,3)"
   ]
  },
  {
   "cell_type": "code",
   "execution_count": 13,
   "id": "970c6187",
   "metadata": {
    "execution": {
     "iopub.execute_input": "2023-07-27T09:07:07.025467Z",
     "iopub.status.busy": "2023-07-27T09:07:07.025467Z",
     "iopub.status.idle": "2023-07-27T09:07:07.027526Z",
     "shell.execute_reply": "2023-07-27T09:07:07.027526Z"
    }
   },
   "outputs": [],
   "source": [
    "latbounds = [ 18.5 - 0.25 , 19.5 ]\n",
    "lonbounds = [ 72.5 , 73.5 + 0.25 ]"
   ]
  },
  {
   "cell_type": "code",
   "execution_count": 14,
   "id": "762746b4",
   "metadata": {
    "execution": {
     "iopub.execute_input": "2023-07-27T09:07:07.028520Z",
     "iopub.status.busy": "2023-07-27T09:07:07.028520Z",
     "iopub.status.idle": "2023-07-27T09:07:07.031513Z",
     "shell.execute_reply": "2023-07-27T09:07:07.031513Z"
    }
   },
   "outputs": [],
   "source": [
    "time_from_ref = np.arange(15,85,3)"
   ]
  },
  {
   "cell_type": "code",
   "execution_count": 15,
   "id": "ff917cdf",
   "metadata": {
    "execution": {
     "iopub.execute_input": "2023-07-27T09:07:07.032518Z",
     "iopub.status.busy": "2023-07-27T09:07:07.032518Z",
     "iopub.status.idle": "2023-07-27T09:07:07.036170Z",
     "shell.execute_reply": "2023-07-27T09:07:07.036170Z"
    }
   },
   "outputs": [],
   "source": [
    "columns_prec = []\n",
    "\n",
    "for i in ['Prec']:\n",
    "    for time_steps in forecast_hr:\n",
    "        for j in np.arange(19.5,18.25,-0.25):\n",
    "            for k in np.arange(72.5,73.75,0.25):\n",
    "                columns_prec.append(f'{i}_{j}_{k}_{time_steps:03d}')"
   ]
  },
  {
   "cell_type": "code",
   "execution_count": 16,
   "id": "56a6a09c",
   "metadata": {
    "execution": {
     "iopub.execute_input": "2023-07-27T09:07:07.037180Z",
     "iopub.status.busy": "2023-07-27T09:07:07.037180Z",
     "iopub.status.idle": "2023-07-27T09:07:07.039534Z",
     "shell.execute_reply": "2023-07-27T09:07:07.039534Z"
    }
   },
   "outputs": [],
   "source": [
    "x = dt.datetime.now().replace(second=0, microsecond=0)"
   ]
  },
  {
   "cell_type": "code",
   "execution_count": 17,
   "id": "c0807635",
   "metadata": {
    "execution": {
     "iopub.execute_input": "2023-07-27T09:07:07.040540Z",
     "iopub.status.busy": "2023-07-27T09:07:07.040540Z",
     "iopub.status.idle": "2023-07-27T09:07:07.044931Z",
     "shell.execute_reply": "2023-07-27T09:07:07.044931Z"
    }
   },
   "outputs": [
    {
     "data": {
      "text/plain": [
       "Timestamp('2023-08-20 19:23:00')"
      ]
     },
     "execution_count": 17,
     "metadata": {},
     "output_type": "execute_result"
    }
   ],
   "source": [
    "pd.to_datetime(x)"
   ]
  },
  {
   "cell_type": "code",
   "execution_count": 18,
   "id": "33f9f5b4",
   "metadata": {
    "execution": {
     "iopub.execute_input": "2023-07-27T09:07:07.045962Z",
     "iopub.status.busy": "2023-07-27T09:07:07.045962Z",
     "iopub.status.idle": "2023-07-27T09:07:07.048535Z",
     "shell.execute_reply": "2023-07-27T09:07:07.048273Z"
    }
   },
   "outputs": [],
   "source": [
    "day=x.day\n",
    "month = x.month\n",
    "year = x.year"
   ]
  },
  {
   "cell_type": "code",
   "execution_count": 19,
   "id": "095f9568",
   "metadata": {
    "execution": {
     "iopub.execute_input": "2023-07-27T09:07:07.049535Z",
     "iopub.status.busy": "2023-07-27T09:07:07.049535Z",
     "iopub.status.idle": "2023-07-27T09:07:07.053102Z",
     "shell.execute_reply": "2023-07-27T09:07:07.052861Z"
    }
   },
   "outputs": [],
   "source": [
    "start_day = f'{year}-{month}-{day}'\n",
    "end_day = pd.to_datetime(start_day) + timedelta(hours=24)"
   ]
  },
  {
   "cell_type": "code",
   "execution_count": 20,
   "id": "84b32128",
   "metadata": {
    "execution": {
     "iopub.execute_input": "2023-07-27T09:07:07.054103Z",
     "iopub.status.busy": "2023-07-27T09:07:07.054103Z",
     "iopub.status.idle": "2023-07-27T09:07:07.056743Z",
     "shell.execute_reply": "2023-07-27T09:07:07.056503Z"
    }
   },
   "outputs": [
    {
     "data": {
      "text/plain": [
       "'2023-8-20'"
      ]
     },
     "execution_count": 20,
     "metadata": {},
     "output_type": "execute_result"
    }
   ],
   "source": [
    "start_day"
   ]
  },
  {
   "cell_type": "code",
   "execution_count": 21,
   "id": "59a6017a",
   "metadata": {
    "execution": {
     "iopub.execute_input": "2023-07-27T09:07:07.057744Z",
     "iopub.status.busy": "2023-07-27T09:07:07.057744Z",
     "iopub.status.idle": "2023-07-27T09:07:07.060565Z",
     "shell.execute_reply": "2023-07-27T09:07:07.060565Z"
    }
   },
   "outputs": [
    {
     "data": {
      "text/plain": [
       "Timestamp('2023-08-21 00:00:00')"
      ]
     },
     "execution_count": 21,
     "metadata": {},
     "output_type": "execute_result"
    }
   ],
   "source": [
    "end_day"
   ]
  },
  {
   "cell_type": "code",
   "execution_count": 22,
   "id": "e237dde8",
   "metadata": {
    "execution": {
     "iopub.execute_input": "2023-07-27T09:07:07.061574Z",
     "iopub.status.busy": "2023-07-27T09:07:07.061574Z",
     "iopub.status.idle": "2023-07-27T09:07:07.063665Z",
     "shell.execute_reply": "2023-07-27T09:07:07.063665Z"
    }
   },
   "outputs": [],
   "source": [
    "data_prec = pd.DataFrame(index =[pd.to_datetime(start_day) + timedelta(hours=6)], columns = columns_prec)"
   ]
  },
  {
   "cell_type": "code",
   "execution_count": 23,
   "id": "061238ae",
   "metadata": {
    "execution": {
     "iopub.execute_input": "2023-07-27T09:07:07.064668Z",
     "iopub.status.busy": "2023-07-27T09:07:07.064668Z",
     "iopub.status.idle": "2023-07-27T09:07:07.081618Z",
     "shell.execute_reply": "2023-07-27T09:07:07.081114Z"
    }
   },
   "outputs": [],
   "source": [
    "# data_prec = pd.DataFrame(index =[pd.to_datetime('2023-09-11') + timedelta(hours=6)], columns = columns_prec)"
   ]
  },
  {
   "cell_type": "code",
   "execution_count": 23,
   "id": "4281300e",
   "metadata": {
    "execution": {
     "iopub.execute_input": "2023-07-27T09:07:07.082811Z",
     "iopub.status.busy": "2023-07-27T09:07:07.082811Z",
     "iopub.status.idle": "2023-07-27T09:07:07.092730Z",
     "shell.execute_reply": "2023-07-27T09:07:07.092552Z"
    }
   },
   "outputs": [
    {
     "data": {
      "text/html": [
       "<div>\n",
       "<style scoped>\n",
       "    .dataframe tbody tr th:only-of-type {\n",
       "        vertical-align: middle;\n",
       "    }\n",
       "\n",
       "    .dataframe tbody tr th {\n",
       "        vertical-align: top;\n",
       "    }\n",
       "\n",
       "    .dataframe thead th {\n",
       "        text-align: right;\n",
       "    }\n",
       "</style>\n",
       "<table border=\"1\" class=\"dataframe\">\n",
       "  <thead>\n",
       "    <tr style=\"text-align: right;\">\n",
       "      <th></th>\n",
       "      <th>Prec_19.5_72.5_015</th>\n",
       "      <th>Prec_19.5_72.75_015</th>\n",
       "      <th>Prec_19.5_73.0_015</th>\n",
       "      <th>Prec_19.5_73.25_015</th>\n",
       "      <th>Prec_19.5_73.5_015</th>\n",
       "      <th>Prec_19.25_72.5_015</th>\n",
       "      <th>Prec_19.25_72.75_015</th>\n",
       "      <th>Prec_19.25_73.0_015</th>\n",
       "      <th>Prec_19.25_73.25_015</th>\n",
       "      <th>Prec_19.25_73.5_015</th>\n",
       "      <th>...</th>\n",
       "      <th>Prec_18.75_72.5_084</th>\n",
       "      <th>Prec_18.75_72.75_084</th>\n",
       "      <th>Prec_18.75_73.0_084</th>\n",
       "      <th>Prec_18.75_73.25_084</th>\n",
       "      <th>Prec_18.75_73.5_084</th>\n",
       "      <th>Prec_18.5_72.5_084</th>\n",
       "      <th>Prec_18.5_72.75_084</th>\n",
       "      <th>Prec_18.5_73.0_084</th>\n",
       "      <th>Prec_18.5_73.25_084</th>\n",
       "      <th>Prec_18.5_73.5_084</th>\n",
       "    </tr>\n",
       "  </thead>\n",
       "  <tbody>\n",
       "    <tr>\n",
       "      <th>2023-08-20 06:00:00</th>\n",
       "      <td>NaN</td>\n",
       "      <td>NaN</td>\n",
       "      <td>NaN</td>\n",
       "      <td>NaN</td>\n",
       "      <td>NaN</td>\n",
       "      <td>NaN</td>\n",
       "      <td>NaN</td>\n",
       "      <td>NaN</td>\n",
       "      <td>NaN</td>\n",
       "      <td>NaN</td>\n",
       "      <td>...</td>\n",
       "      <td>NaN</td>\n",
       "      <td>NaN</td>\n",
       "      <td>NaN</td>\n",
       "      <td>NaN</td>\n",
       "      <td>NaN</td>\n",
       "      <td>NaN</td>\n",
       "      <td>NaN</td>\n",
       "      <td>NaN</td>\n",
       "      <td>NaN</td>\n",
       "      <td>NaN</td>\n",
       "    </tr>\n",
       "  </tbody>\n",
       "</table>\n",
       "<p>1 rows × 600 columns</p>\n",
       "</div>"
      ],
      "text/plain": [
       "                    Prec_19.5_72.5_015 Prec_19.5_72.75_015 Prec_19.5_73.0_015  \\\n",
       "2023-08-20 06:00:00                NaN                 NaN                NaN   \n",
       "\n",
       "                    Prec_19.5_73.25_015 Prec_19.5_73.5_015  \\\n",
       "2023-08-20 06:00:00                 NaN                NaN   \n",
       "\n",
       "                    Prec_19.25_72.5_015 Prec_19.25_72.75_015  \\\n",
       "2023-08-20 06:00:00                 NaN                  NaN   \n",
       "\n",
       "                    Prec_19.25_73.0_015 Prec_19.25_73.25_015  \\\n",
       "2023-08-20 06:00:00                 NaN                  NaN   \n",
       "\n",
       "                    Prec_19.25_73.5_015  ... Prec_18.75_72.5_084  \\\n",
       "2023-08-20 06:00:00                 NaN  ...                 NaN   \n",
       "\n",
       "                    Prec_18.75_72.75_084 Prec_18.75_73.0_084  \\\n",
       "2023-08-20 06:00:00                  NaN                 NaN   \n",
       "\n",
       "                    Prec_18.75_73.25_084 Prec_18.75_73.5_084  \\\n",
       "2023-08-20 06:00:00                  NaN                 NaN   \n",
       "\n",
       "                    Prec_18.5_72.5_084 Prec_18.5_72.75_084 Prec_18.5_73.0_084  \\\n",
       "2023-08-20 06:00:00                NaN                 NaN                NaN   \n",
       "\n",
       "                    Prec_18.5_73.25_084 Prec_18.5_73.5_084  \n",
       "2023-08-20 06:00:00                 NaN                NaN  \n",
       "\n",
       "[1 rows x 600 columns]"
      ]
     },
     "execution_count": 23,
     "metadata": {},
     "output_type": "execute_result"
    }
   ],
   "source": [
    "data_prec"
   ]
  },
  {
   "cell_type": "code",
   "execution_count": 24,
   "id": "a95a9889",
   "metadata": {
    "execution": {
     "iopub.execute_input": "2023-07-27T09:07:07.093731Z",
     "iopub.status.busy": "2023-07-27T09:07:07.093731Z",
     "iopub.status.idle": "2023-07-27T09:07:07.096374Z",
     "shell.execute_reply": "2023-07-27T09:07:07.096374Z"
    }
   },
   "outputs": [],
   "source": [
    "root_directory = f\"C:/Users/Admin/Desktop/Automation/{day:02d}-{month:02d}-{year}\""
   ]
  },
  {
   "cell_type": "code",
   "execution_count": null,
   "id": "9126fcc9",
   "metadata": {
    "execution": {
     "iopub.execute_input": "2023-07-27T09:07:07.097404Z",
     "iopub.status.busy": "2023-07-27T09:07:07.097404Z",
     "iopub.status.idle": "2023-07-27T09:07:07.100059Z",
     "shell.execute_reply": "2023-07-27T09:07:07.099881Z"
    }
   },
   "outputs": [],
   "source": [
    "#root_directory = f\"C:/Users/Admin/Desktop/GFS FORECASTS/24-{month:02d}-{year}\""
   ]
  },
  {
   "cell_type": "code",
   "execution_count": 25,
   "id": "12801473",
   "metadata": {},
   "outputs": [],
   "source": [
    "# root_directory = f\"C:/Users/Admin/Desktop/Automation/11-09-{year}\""
   ]
  },
  {
   "cell_type": "code",
   "execution_count": 25,
   "id": "29a7f0f2",
   "metadata": {
    "execution": {
     "iopub.execute_input": "2023-07-27T09:07:07.101060Z",
     "iopub.status.busy": "2023-07-27T09:07:07.101060Z",
     "iopub.status.idle": "2023-07-27T09:07:07.103976Z",
     "shell.execute_reply": "2023-07-27T09:07:07.103976Z"
    }
   },
   "outputs": [
    {
     "data": {
      "text/plain": [
       "'C:/Users/Admin/Desktop/Automation/20-08-2023'"
      ]
     },
     "execution_count": 25,
     "metadata": {},
     "output_type": "execute_result"
    }
   ],
   "source": [
    "root_directory"
   ]
  },
  {
   "cell_type": "code",
   "execution_count": 27,
   "id": "856241e3",
   "metadata": {
    "execution": {
     "iopub.execute_input": "2023-07-27T09:07:07.104976Z",
     "iopub.status.busy": "2023-07-27T09:07:07.104976Z",
     "iopub.status.idle": "2023-07-27T09:07:07.107174Z",
     "shell.execute_reply": "2023-07-27T09:07:07.107174Z"
    }
   },
   "outputs": [],
   "source": [
    "counter =0"
   ]
  },
  {
   "cell_type": "code",
   "execution_count": 28,
   "id": "7f2d547d",
   "metadata": {
    "execution": {
     "iopub.execute_input": "2023-07-27T09:07:07.108178Z",
     "iopub.status.busy": "2023-07-27T09:07:07.108178Z",
     "iopub.status.idle": "2023-07-27T09:07:07.296812Z",
     "shell.execute_reply": "2023-07-27T09:07:07.296812Z"
    }
   },
   "outputs": [],
   "source": [
    "for time_step in data_prec.index:\n",
    "    \n",
    "    year = time_step.year\n",
    "    month = time_step.month\n",
    "    day = time_step.day\n",
    "\n",
    "    ref_time = time_step.hour\n",
    "    \n",
    "    date_temp = pd.date_range(start = time_step + timedelta(hours = 15), end = time_step + timedelta(hours = 84) , freq = '3H')\n",
    "    col_temp = np.arange(0,25)\n",
    "    \n",
    "    data_temp = pd.DataFrame(index  = date_temp, columns=col_temp)\n",
    "    \n",
    "    for time_lag in time_from_ref:\n",
    "        \n",
    "        filename =f'gfs.t{ref_time:02d}z.pgrb2.0p25.f{time_lag:03d}'\n",
    "        #directory = find_key(directory_names, filename)\n",
    "        \n",
    "        \n",
    "        \n",
    "        grib = f'{root_directory}/{filename}'\n",
    "        grbs = pygrib.open(grib)\n",
    "        variable_name_to_select = 'Precipitation rate'  # Replace with the variable name you want\n",
    "\n",
    "        # Loop through the GRIB messages (variables) in the file\n",
    "        for grb in grbs.select(name=variable_name_to_select):\n",
    "            # Access the data and metadata of the selected variable\n",
    "            data = grb.values  # Data values\n",
    "            latitudes, longitudes = grb.latlons()  # Latitudes and longitudes\n",
    "            parameter_name = grb.name  # Parameter name (e.g., 'Temperature', 'Wind speed', etc.)\n",
    "            level_type = grb.typeOfLevel  # Level type (e.g., 'surface', 'isobaricInhPa', etc.)\n",
    "            level_value = grb.level  # Level value (e.g., 850, 1000, etc.)\n",
    "            valid_time = grb.validDate  # Valid time of the data\n",
    "\n",
    "\n",
    "        # latitude lower and upper index\n",
    "        latli = 2\n",
    "        latui = 7 \n",
    "\n",
    "        # longitude lower and upper index\n",
    "        lonli = 2\n",
    "        lonui = 7\n",
    "\n",
    "\n",
    "\n",
    "        time = pd.to_datetime(f'{year}-{month}-{day}') + timedelta(hours = int(int(ref_time) + int(time_lag)))\n",
    "        data = data[latli:latui,lonli:lonui][::-1]\n",
    "        time_prev = time - timedelta(hours = 3)\n",
    "\n",
    "        if ((int(time_lag)%6) == 0):\n",
    "            if len(np.ravel(data)) == 25:\n",
    "                data_temp.loc[time][0:25] =  (np.ravel(data)*21600) - np.ravel(data_temp.loc[time_prev][0:25])\n",
    "\n",
    "        elif ((int(time_lag)%6) != 0) & ((int(time_lag)%3) == 0):\n",
    "            if len(np.ravel(data)) == 25:\n",
    "                data_temp.loc[time][0:25] =  (np.ravel(data)*10800)\n",
    "        else:\n",
    "            print(filename)\n",
    "            \n",
    "                \n",
    "    data_prec.loc[time_step][0:600] = np.ravel(data_temp)\n",
    "    \n",
    "    counter += 1\n",
    "    if (counter)%500 == 0:\n",
    "        print(f'Loop {counter} Done!')\n",
    "        "
   ]
  },
  {
   "cell_type": "code",
   "execution_count": 29,
   "id": "f031d34f",
   "metadata": {
    "execution": {
     "iopub.execute_input": "2023-07-27T09:07:07.298843Z",
     "iopub.status.busy": "2023-07-27T09:07:07.298843Z",
     "iopub.status.idle": "2023-07-27T09:07:07.307964Z",
     "shell.execute_reply": "2023-07-27T09:07:07.307964Z"
    }
   },
   "outputs": [
    {
     "data": {
      "text/html": [
       "<div>\n",
       "<style scoped>\n",
       "    .dataframe tbody tr th:only-of-type {\n",
       "        vertical-align: middle;\n",
       "    }\n",
       "\n",
       "    .dataframe tbody tr th {\n",
       "        vertical-align: top;\n",
       "    }\n",
       "\n",
       "    .dataframe thead th {\n",
       "        text-align: right;\n",
       "    }\n",
       "</style>\n",
       "<table border=\"1\" class=\"dataframe\">\n",
       "  <thead>\n",
       "    <tr style=\"text-align: right;\">\n",
       "      <th></th>\n",
       "      <th>Prec_19.5_72.5_015</th>\n",
       "      <th>Prec_19.5_72.75_015</th>\n",
       "      <th>Prec_19.5_73.0_015</th>\n",
       "      <th>Prec_19.5_73.25_015</th>\n",
       "      <th>Prec_19.5_73.5_015</th>\n",
       "      <th>Prec_19.25_72.5_015</th>\n",
       "      <th>Prec_19.25_72.75_015</th>\n",
       "      <th>Prec_19.25_73.0_015</th>\n",
       "      <th>Prec_19.25_73.25_015</th>\n",
       "      <th>Prec_19.25_73.5_015</th>\n",
       "      <th>...</th>\n",
       "      <th>Prec_18.75_72.5_084</th>\n",
       "      <th>Prec_18.75_72.75_084</th>\n",
       "      <th>Prec_18.75_73.0_084</th>\n",
       "      <th>Prec_18.75_73.25_084</th>\n",
       "      <th>Prec_18.75_73.5_084</th>\n",
       "      <th>Prec_18.5_72.5_084</th>\n",
       "      <th>Prec_18.5_72.75_084</th>\n",
       "      <th>Prec_18.5_73.0_084</th>\n",
       "      <th>Prec_18.5_73.25_084</th>\n",
       "      <th>Prec_18.5_73.5_084</th>\n",
       "    </tr>\n",
       "  </thead>\n",
       "  <tbody>\n",
       "    <tr>\n",
       "      <th>2023-08-13 06:00:00</th>\n",
       "      <td>0.1296</td>\n",
       "      <td>0.16416</td>\n",
       "      <td>0.13824</td>\n",
       "      <td>0.40176</td>\n",
       "      <td>1.13184</td>\n",
       "      <td>0.11232</td>\n",
       "      <td>0.13824</td>\n",
       "      <td>0.13824</td>\n",
       "      <td>0.44928</td>\n",
       "      <td>0.91152</td>\n",
       "      <td>...</td>\n",
       "      <td>0.59616</td>\n",
       "      <td>0.91152</td>\n",
       "      <td>0.96984</td>\n",
       "      <td>0.60696</td>\n",
       "      <td>0.39096</td>\n",
       "      <td>0.68256</td>\n",
       "      <td>0.99144</td>\n",
       "      <td>0.99144</td>\n",
       "      <td>0.50112</td>\n",
       "      <td>0.38016</td>\n",
       "    </tr>\n",
       "  </tbody>\n",
       "</table>\n",
       "<p>1 rows × 600 columns</p>\n",
       "</div>"
      ],
      "text/plain": [
       "                    Prec_19.5_72.5_015 Prec_19.5_72.75_015 Prec_19.5_73.0_015  \\\n",
       "2023-08-13 06:00:00             0.1296             0.16416            0.13824   \n",
       "\n",
       "                    Prec_19.5_73.25_015 Prec_19.5_73.5_015  \\\n",
       "2023-08-13 06:00:00             0.40176            1.13184   \n",
       "\n",
       "                    Prec_19.25_72.5_015 Prec_19.25_72.75_015  \\\n",
       "2023-08-13 06:00:00             0.11232              0.13824   \n",
       "\n",
       "                    Prec_19.25_73.0_015 Prec_19.25_73.25_015  \\\n",
       "2023-08-13 06:00:00             0.13824              0.44928   \n",
       "\n",
       "                    Prec_19.25_73.5_015  ... Prec_18.75_72.5_084  \\\n",
       "2023-08-13 06:00:00             0.91152  ...             0.59616   \n",
       "\n",
       "                    Prec_18.75_72.75_084 Prec_18.75_73.0_084  \\\n",
       "2023-08-13 06:00:00              0.91152             0.96984   \n",
       "\n",
       "                    Prec_18.75_73.25_084 Prec_18.75_73.5_084  \\\n",
       "2023-08-13 06:00:00              0.60696             0.39096   \n",
       "\n",
       "                    Prec_18.5_72.5_084 Prec_18.5_72.75_084 Prec_18.5_73.0_084  \\\n",
       "2023-08-13 06:00:00            0.68256             0.99144            0.99144   \n",
       "\n",
       "                    Prec_18.5_73.25_084 Prec_18.5_73.5_084  \n",
       "2023-08-13 06:00:00             0.50112            0.38016  \n",
       "\n",
       "[1 rows x 600 columns]"
      ]
     },
     "execution_count": 29,
     "metadata": {},
     "output_type": "execute_result"
    }
   ],
   "source": [
    "data_prec"
   ]
  },
  {
   "cell_type": "code",
   "execution_count": 30,
   "id": "a5bd5602",
   "metadata": {
    "execution": {
     "iopub.execute_input": "2023-07-27T09:07:07.310013Z",
     "iopub.status.busy": "2023-07-27T09:07:07.309010Z",
     "iopub.status.idle": "2023-07-27T09:07:07.318821Z",
     "shell.execute_reply": "2023-07-27T09:07:07.318821Z"
    },
    "scrolled": true
   },
   "outputs": [
    {
     "data": {
      "text/html": [
       "<div>\n",
       "<style scoped>\n",
       "    .dataframe tbody tr th:only-of-type {\n",
       "        vertical-align: middle;\n",
       "    }\n",
       "\n",
       "    .dataframe tbody tr th {\n",
       "        vertical-align: top;\n",
       "    }\n",
       "\n",
       "    .dataframe thead th {\n",
       "        text-align: right;\n",
       "    }\n",
       "</style>\n",
       "<table border=\"1\" class=\"dataframe\">\n",
       "  <thead>\n",
       "    <tr style=\"text-align: right;\">\n",
       "      <th></th>\n",
       "      <th>Prec_19.5_72.5_015</th>\n",
       "      <th>Prec_19.5_72.75_015</th>\n",
       "      <th>Prec_19.5_73.0_015</th>\n",
       "      <th>Prec_19.5_73.25_015</th>\n",
       "      <th>Prec_19.5_73.5_015</th>\n",
       "      <th>Prec_19.25_72.5_015</th>\n",
       "      <th>Prec_19.25_72.75_015</th>\n",
       "      <th>Prec_19.25_73.0_015</th>\n",
       "      <th>Prec_19.25_73.25_015</th>\n",
       "      <th>Prec_19.25_73.5_015</th>\n",
       "      <th>...</th>\n",
       "      <th>Prec_18.75_72.5_084</th>\n",
       "      <th>Prec_18.75_72.75_084</th>\n",
       "      <th>Prec_18.75_73.0_084</th>\n",
       "      <th>Prec_18.75_73.25_084</th>\n",
       "      <th>Prec_18.75_73.5_084</th>\n",
       "      <th>Prec_18.5_72.5_084</th>\n",
       "      <th>Prec_18.5_72.75_084</th>\n",
       "      <th>Prec_18.5_73.0_084</th>\n",
       "      <th>Prec_18.5_73.25_084</th>\n",
       "      <th>Prec_18.5_73.5_084</th>\n",
       "    </tr>\n",
       "  </thead>\n",
       "  <tbody>\n",
       "    <tr>\n",
       "      <th>2023-08-13 23:30:00</th>\n",
       "      <td>0.1296</td>\n",
       "      <td>0.16416</td>\n",
       "      <td>0.13824</td>\n",
       "      <td>0.40176</td>\n",
       "      <td>1.13184</td>\n",
       "      <td>0.11232</td>\n",
       "      <td>0.13824</td>\n",
       "      <td>0.13824</td>\n",
       "      <td>0.44928</td>\n",
       "      <td>0.91152</td>\n",
       "      <td>...</td>\n",
       "      <td>0.59616</td>\n",
       "      <td>0.91152</td>\n",
       "      <td>0.96984</td>\n",
       "      <td>0.60696</td>\n",
       "      <td>0.39096</td>\n",
       "      <td>0.68256</td>\n",
       "      <td>0.99144</td>\n",
       "      <td>0.99144</td>\n",
       "      <td>0.50112</td>\n",
       "      <td>0.38016</td>\n",
       "    </tr>\n",
       "  </tbody>\n",
       "</table>\n",
       "<p>1 rows × 600 columns</p>\n",
       "</div>"
      ],
      "text/plain": [
       "                    Prec_19.5_72.5_015 Prec_19.5_72.75_015 Prec_19.5_73.0_015  \\\n",
       "2023-08-13 23:30:00             0.1296             0.16416            0.13824   \n",
       "\n",
       "                    Prec_19.5_73.25_015 Prec_19.5_73.5_015  \\\n",
       "2023-08-13 23:30:00             0.40176            1.13184   \n",
       "\n",
       "                    Prec_19.25_72.5_015 Prec_19.25_72.75_015  \\\n",
       "2023-08-13 23:30:00             0.11232              0.13824   \n",
       "\n",
       "                    Prec_19.25_73.0_015 Prec_19.25_73.25_015  \\\n",
       "2023-08-13 23:30:00             0.13824              0.44928   \n",
       "\n",
       "                    Prec_19.25_73.5_015  ... Prec_18.75_72.5_084  \\\n",
       "2023-08-13 23:30:00             0.91152  ...             0.59616   \n",
       "\n",
       "                    Prec_18.75_72.75_084 Prec_18.75_73.0_084  \\\n",
       "2023-08-13 23:30:00              0.91152             0.96984   \n",
       "\n",
       "                    Prec_18.75_73.25_084 Prec_18.75_73.5_084  \\\n",
       "2023-08-13 23:30:00              0.60696             0.39096   \n",
       "\n",
       "                    Prec_18.5_72.5_084 Prec_18.5_72.75_084 Prec_18.5_73.0_084  \\\n",
       "2023-08-13 23:30:00            0.68256             0.99144            0.99144   \n",
       "\n",
       "                    Prec_18.5_73.25_084 Prec_18.5_73.5_084  \n",
       "2023-08-13 23:30:00             0.50112            0.38016  \n",
       "\n",
       "[1 rows x 600 columns]"
      ]
     },
     "execution_count": 30,
     "metadata": {},
     "output_type": "execute_result"
    }
   ],
   "source": [
    "data_prec = data_prec.shift(freq=pd.Timedelta(hours=17, minutes=30))\n",
    "data_prec.head()"
   ]
  },
  {
   "cell_type": "code",
   "execution_count": 31,
   "id": "8ba8c041",
   "metadata": {
    "execution": {
     "iopub.execute_input": "2023-07-27T09:07:07.320850Z",
     "iopub.status.busy": "2023-07-27T09:07:07.320850Z",
     "iopub.status.idle": "2023-07-27T09:07:07.322690Z",
     "shell.execute_reply": "2023-07-27T09:07:07.322690Z"
    }
   },
   "outputs": [],
   "source": [
    "n_features = 25\n",
    "n_steps = 24\n",
    "n_samples_test = data_prec.shape[0]"
   ]
  },
  {
   "cell_type": "code",
   "execution_count": 32,
   "id": "8fcf5227",
   "metadata": {
    "execution": {
     "iopub.execute_input": "2023-07-27T09:07:07.323716Z",
     "iopub.status.busy": "2023-07-27T09:07:07.323716Z",
     "iopub.status.idle": "2023-07-27T09:07:07.326154Z",
     "shell.execute_reply": "2023-07-27T09:07:07.326154Z"
    }
   },
   "outputs": [],
   "source": [
    "X_test_prec_cnn_lstm = np.full((n_samples_test,24,5,5),np.nan)"
   ]
  },
  {
   "cell_type": "code",
   "execution_count": 33,
   "id": "c8fb2731",
   "metadata": {
    "execution": {
     "iopub.execute_input": "2023-07-27T09:07:07.327187Z",
     "iopub.status.busy": "2023-07-27T09:07:07.327187Z",
     "iopub.status.idle": "2023-07-27T09:07:07.329440Z",
     "shell.execute_reply": "2023-07-27T09:07:07.329440Z"
    }
   },
   "outputs": [],
   "source": [
    "import copy"
   ]
  },
  {
   "cell_type": "code",
   "execution_count": 34,
   "id": "a48b1fcb",
   "metadata": {
    "execution": {
     "iopub.execute_input": "2023-07-27T09:07:07.330465Z",
     "iopub.status.busy": "2023-07-27T09:07:07.330465Z",
     "iopub.status.idle": "2023-07-27T09:07:07.343879Z",
     "shell.execute_reply": "2023-07-27T09:07:07.343879Z"
    }
   },
   "outputs": [],
   "source": [
    "for i in range(data_prec.shape[0]):\n",
    "    temp_array = np.full((24,5,5),np.nan)\n",
    "    counter = 0\n",
    "    \n",
    "    for j in np.arange(15,85,3):\n",
    "        \n",
    "        selected_cols = data_prec.filter(regex=f'_{j:03d}$')\n",
    "        temp_array[counter] = selected_cols.iloc[i].values.reshape(5,-1)\n",
    "        counter +=1\n",
    "        \n",
    "    X_test_prec_cnn_lstm[i] = copy.deepcopy(temp_array)"
   ]
  },
  {
   "cell_type": "code",
   "execution_count": 35,
   "id": "293eca0c",
   "metadata": {
    "execution": {
     "iopub.execute_input": "2023-07-27T09:07:07.345944Z",
     "iopub.status.busy": "2023-07-27T09:07:07.344938Z",
     "iopub.status.idle": "2023-07-27T09:07:07.347817Z",
     "shell.execute_reply": "2023-07-27T09:07:07.347817Z"
    }
   },
   "outputs": [],
   "source": [
    "X_test_prec_cnn_lstm_daily = np.full((n_samples_test,3,5,5),np.nan) #for daily interval"
   ]
  },
  {
   "cell_type": "code",
   "execution_count": 36,
   "id": "74db9243",
   "metadata": {
    "execution": {
     "iopub.execute_input": "2023-07-27T09:07:07.349886Z",
     "iopub.status.busy": "2023-07-27T09:07:07.348865Z",
     "iopub.status.idle": "2023-07-27T09:07:07.352635Z",
     "shell.execute_reply": "2023-07-27T09:07:07.352635Z"
    }
   },
   "outputs": [],
   "source": [
    "for i in range(X_test_prec_cnn_lstm_daily.shape[0]):\n",
    "    X_test_prec_cnn_lstm_daily[i,0,:,:] = np.sum(X_test_prec_cnn_lstm[i,0:8,:,:], axis = 0)\n",
    "    X_test_prec_cnn_lstm_daily[i,1,:,:] = np.sum(X_test_prec_cnn_lstm[i,8:16,:,:], axis = 0)\n",
    "    X_test_prec_cnn_lstm_daily[i,2,:,:] = np.sum(X_test_prec_cnn_lstm[i,16:24,:,:], axis = 0)"
   ]
  },
  {
   "cell_type": "code",
   "execution_count": 37,
   "id": "a05ed9c1",
   "metadata": {
    "execution": {
     "iopub.execute_input": "2023-07-27T09:07:07.354710Z",
     "iopub.status.busy": "2023-07-27T09:07:07.353682Z",
     "iopub.status.idle": "2023-07-27T09:07:07.357210Z",
     "shell.execute_reply": "2023-07-27T09:07:07.357210Z"
    }
   },
   "outputs": [
    {
     "data": {
      "text/plain": [
       "(1, 3, 5, 5)"
      ]
     },
     "execution_count": 37,
     "metadata": {},
     "output_type": "execute_result"
    }
   ],
   "source": [
    "X_test_prec_cnn_lstm_daily.shape"
   ]
  },
  {
   "cell_type": "code",
   "execution_count": 38,
   "id": "1e95a61e",
   "metadata": {
    "execution": {
     "iopub.execute_input": "2023-07-27T09:07:07.358290Z",
     "iopub.status.busy": "2023-07-27T09:07:07.358290Z",
     "iopub.status.idle": "2023-07-27T09:07:07.360768Z",
     "shell.execute_reply": "2023-07-27T09:07:07.360768Z"
    }
   },
   "outputs": [],
   "source": [
    "X_test_prec_cnn_lstm_reshaped = np.expand_dims(X_test_prec_cnn_lstm_daily, axis=1)"
   ]
  },
  {
   "cell_type": "code",
   "execution_count": 39,
   "id": "f67941d5",
   "metadata": {
    "execution": {
     "iopub.execute_input": "2023-07-27T09:07:07.361816Z",
     "iopub.status.busy": "2023-07-27T09:07:07.361816Z",
     "iopub.status.idle": "2023-07-27T09:07:07.364134Z",
     "shell.execute_reply": "2023-07-27T09:07:07.364134Z"
    }
   },
   "outputs": [],
   "source": [
    "X_test_prec_cnn_lstm_reshaped = np.moveaxis(X_test_prec_cnn_lstm_reshaped, 1, -1)"
   ]
  },
  {
   "cell_type": "code",
   "execution_count": 40,
   "id": "b8815ab6",
   "metadata": {
    "execution": {
     "iopub.execute_input": "2023-07-27T09:07:07.365133Z",
     "iopub.status.busy": "2023-07-27T09:07:07.365133Z",
     "iopub.status.idle": "2023-07-27T09:07:07.367871Z",
     "shell.execute_reply": "2023-07-27T09:07:07.367871Z"
    },
    "scrolled": true
   },
   "outputs": [
    {
     "data": {
      "text/plain": [
       "(1, 3, 5, 5, 1)"
      ]
     },
     "execution_count": 40,
     "metadata": {},
     "output_type": "execute_result"
    }
   ],
   "source": [
    "X_test_prec_cnn_lstm_reshaped.shape"
   ]
  },
  {
   "cell_type": "code",
   "execution_count": 41,
   "id": "146cbd24",
   "metadata": {
    "execution": {
     "iopub.execute_input": "2023-07-27T09:07:07.368870Z",
     "iopub.status.busy": "2023-07-27T09:07:07.368870Z",
     "iopub.status.idle": "2023-07-27T09:07:07.371258Z",
     "shell.execute_reply": "2023-07-27T09:07:07.371258Z"
    }
   },
   "outputs": [],
   "source": [
    "with open('C:/Users/Admin/Desktop/Automation/X_test_prec_cnn_lstm_reshaped.pickle', 'rb') as file:\n",
    "    X_test_prec_cnn_lstm_hindcast2023_reshaped= pickle.load(file)"
   ]
  },
  {
   "cell_type": "code",
   "execution_count": 42,
   "id": "42a7214d",
   "metadata": {
    "execution": {
     "iopub.execute_input": "2023-07-27T09:07:07.372256Z",
     "iopub.status.busy": "2023-07-27T09:07:07.372256Z",
     "iopub.status.idle": "2023-07-27T09:07:07.375033Z",
     "shell.execute_reply": "2023-07-27T09:07:07.375033Z"
    }
   },
   "outputs": [
    {
     "data": {
      "text/plain": [
       "(81, 3, 5, 5, 1)"
      ]
     },
     "execution_count": 42,
     "metadata": {},
     "output_type": "execute_result"
    }
   ],
   "source": [
    " X_test_prec_cnn_lstm_hindcast2023_reshaped.shape"
   ]
  },
  {
   "cell_type": "code",
   "execution_count": null,
   "id": "71a82be4",
   "metadata": {
    "execution": {
     "iopub.execute_input": "2023-07-27T09:07:07.376031Z",
     "iopub.status.busy": "2023-07-27T09:07:07.376031Z",
     "iopub.status.idle": "2023-07-27T09:07:07.378807Z",
     "shell.execute_reply": "2023-07-27T09:07:07.378807Z"
    }
   },
   "outputs": [],
   "source": [
    " X_test_prec_cnn_lstm_reshaped.shape"
   ]
  },
  {
   "cell_type": "code",
   "execution_count": null,
   "id": "628c6599",
   "metadata": {
    "execution": {
     "iopub.execute_input": "2023-07-27T09:07:07.379805Z",
     "iopub.status.busy": "2023-07-27T09:07:07.379805Z",
     "iopub.status.idle": "2023-07-27T09:07:07.382017Z",
     "shell.execute_reply": "2023-07-27T09:07:07.382017Z"
    }
   },
   "outputs": [],
   "source": [
    "X_test_prec_cnn_lstm_hindcast2023_concatenate =np.concatenate((X_test_prec_cnn_lstm_hindcast2023_reshaped, X_test_prec_cnn_lstm_reshaped), axis=0)"
   ]
  },
  {
   "cell_type": "code",
   "execution_count": 78,
   "id": "ca9f7ba5",
   "metadata": {},
   "outputs": [],
   "source": [
    "#X_test_prec_cnn_lstm_hindcast2023_concatenate = X_test_prec_cnn_lstm_hindcast2023_reshaped"
   ]
  },
  {
   "cell_type": "code",
   "execution_count": 79,
   "id": "09f940d7",
   "metadata": {
    "execution": {
     "iopub.execute_input": "2023-07-27T09:07:07.383016Z",
     "iopub.status.busy": "2023-07-27T09:07:07.383016Z",
     "iopub.status.idle": "2023-07-27T09:07:07.385737Z",
     "shell.execute_reply": "2023-07-27T09:07:07.385737Z"
    },
    "scrolled": false
   },
   "outputs": [
    {
     "data": {
      "text/plain": [
       "(81, 3, 5, 5, 1)"
      ]
     },
     "execution_count": 79,
     "metadata": {},
     "output_type": "execute_result"
    }
   ],
   "source": [
    "X_test_prec_cnn_lstm_hindcast2023_concatenate.shape"
   ]
  },
  {
   "cell_type": "code",
   "execution_count": 80,
   "id": "fcdc4d5b",
   "metadata": {
    "execution": {
     "iopub.execute_input": "2023-07-27T09:07:07.386768Z",
     "iopub.status.busy": "2023-07-27T09:07:07.386768Z",
     "iopub.status.idle": "2023-07-27T09:07:07.389989Z",
     "shell.execute_reply": "2023-07-27T09:07:07.389989Z"
    }
   },
   "outputs": [],
   "source": [
    "# Function to generate uncertainty bands\n",
    "def generate_uncertainty_bands(model, x_test, num_passes=1000):\n",
    "    predictions = []\n",
    "    for _ in range(num_passes):\n",
    "        preds = np.array(model(x_test,  training = True))\n",
    "        predictions.append(preds)\n",
    "        #if _%100 == 0:\n",
    "            #print(f'{_} predictions complete!')\n",
    "    predictions = np.array(predictions)\n",
    "    mean_predictions = np.mean(predictions, axis=0)\n",
    "    std_predictions = np.std(predictions, axis=0)\n",
    "    return predictions, mean_predictions, std_predictions"
   ]
  },
  {
   "cell_type": "code",
   "execution_count": 81,
   "id": "2de96ca8",
   "metadata": {
    "execution": {
     "iopub.execute_input": "2023-07-27T09:07:07.391024Z",
     "iopub.status.busy": "2023-07-27T09:07:07.391024Z",
     "iopub.status.idle": "2023-07-27T09:07:07.393952Z",
     "shell.execute_reply": "2023-07-27T09:07:07.393952Z"
    }
   },
   "outputs": [],
   "source": [
    "stations_ok_merged = sorted(['Andheri', 'B ward', 'Bandra','C ward', 'Chembur', 'D Ward',\n",
    "               'Dindoshi','F North', 'F South', 'G South','Gowanpada', 'H West ward', 'K East ward',\n",
    "               'Kurla', 'L ward', 'M West ward','Malvani','MCGM 1','Mulund','N ward','Nair Hospital',\n",
    "               'Nariman Fire','S ward','SWD Workshop dadar','Vikhroli','vileparle W', 'Byculla', 'Chincholi', \n",
    "                      'Colaba', 'Dahisar', 'K West ward', 'Kandivali','Marol','Memonwada','Rawali camp','Thakare natya','Worli'])"
   ]
  },
  {
   "cell_type": "code",
   "execution_count": 82,
   "id": "517d1820",
   "metadata": {
    "execution": {
     "iopub.execute_input": "2023-07-27T09:07:07.394984Z",
     "iopub.status.busy": "2023-07-27T09:07:07.394984Z",
     "iopub.status.idle": "2023-07-27T09:07:09.410187Z",
     "shell.execute_reply": "2023-07-27T09:07:09.410187Z"
    }
   },
   "outputs": [],
   "source": [
    "from tensorflow.keras.models import Sequential, load_model"
   ]
  },
  {
   "cell_type": "code",
   "execution_count": 83,
   "id": "9c45461f",
   "metadata": {
    "execution": {
     "iopub.execute_input": "2023-07-27T09:07:09.412185Z",
     "iopub.status.busy": "2023-07-27T09:07:09.412185Z",
     "iopub.status.idle": "2023-07-27T09:07:09.545979Z",
     "shell.execute_reply": "2023-07-27T09:07:09.545979Z"
    }
   },
   "outputs": [],
   "source": [
    "stations_coordinates = pd.read_excel('C:/Users/Admin/Desktop/Sautrik/test/Stations_Coordinates.xlsx',header = 0, index_col='Place')\n",
    "stations_coordinates.head()\n",
    "lat_lon = []\n",
    "\n",
    "for i in np.arange(18.5,19.5+0.25,0.25):\n",
    "    for j in np.arange(72.5, 73+0.25,0.25):\n",
    "\n",
    "        lat_lon.append([i,j])\n",
    "\n",
    "lat_lon = np.array(lat_lon)\n",
    "lat_lon=lat_lon.astype(float)\n",
    "def find_closest_pair(lat_lon_array, target_lat, target_lon):\n",
    "    # Calculate differences in latitude and longitude\n",
    "    delta_lat = lat_lon_array[:, 0] - target_lat\n",
    "    delta_lon = lat_lon_array[:, 1] - target_lon\n",
    "\n",
    "    # Calculate Euclidean distances\n",
    "    distances = np.sqrt(delta_lat**2 + delta_lon**2)\n",
    "\n",
    "    # Find the index of the pair with the minimum distance\n",
    "    closest_index = np.argmin(distances)\n",
    "\n",
    "    # Return the closest pair of latitude and longitude\n",
    "    return lat_lon_array[closest_index]"
   ]
  },
  {
   "cell_type": "code",
   "execution_count": null,
   "id": "40ccc83a",
   "metadata": {
    "execution": {
     "iopub.execute_input": "2023-07-27T09:07:09.547981Z",
     "iopub.status.busy": "2023-07-27T09:07:09.547981Z",
     "iopub.status.idle": "2023-07-27T09:07:09.550132Z",
     "shell.execute_reply": "2023-07-27T09:07:09.549978Z"
    }
   },
   "outputs": [],
   "source": [
    "#Root directory path\n",
    "\n",
    "#root_directory = \"C:/Users/Admin/Desktop/GFS FORECASTS/boxplottimeseries\"\n",
    "\n",
    "# List of main directory names\n",
    "#main_directories = stations_ok_merged\n",
    "\n",
    "# Create main directories\n",
    "#for main_dir in main_directories:\n",
    "\n",
    "    #main_dir_path = os.path.join(root_directory, main_dir)\n",
    "\n",
    "    #os.makedirs(main_dir_path, exist_ok=True)"
   ]
  },
  {
   "cell_type": "code",
   "execution_count": 88,
   "id": "db997c84",
   "metadata": {
    "execution": {
     "iopub.execute_input": "2023-07-27T09:07:09.551133Z",
     "iopub.status.busy": "2023-07-27T09:07:09.551133Z",
     "iopub.status.idle": "2023-07-27T09:07:09.553549Z",
     "shell.execute_reply": "2023-07-27T09:07:09.553549Z"
    }
   },
   "outputs": [
    {
     "data": {
      "text/plain": [
       "'2023-08-13'"
      ]
     },
     "execution_count": 88,
     "metadata": {},
     "output_type": "execute_result"
    }
   ],
   "source": [
    "# start_day = '2023-09-11'\n",
    "#start_day"
   ]
  },
  {
   "cell_type": "code",
   "execution_count": 159,
   "id": "f54bf5a0",
   "metadata": {
    "scrolled": true
   },
   "outputs": [
    {
     "name": "stdout",
     "output_type": "stream",
     "text": [
      "(81,)\n",
      "(81,)\n",
      "Andheri completed\n",
      "(81,)\n",
      "(81,)\n",
      "B ward completed\n",
      "(81,)\n",
      "(81,)\n",
      "Bandra completed\n",
      "(81,)\n",
      "(81,)\n",
      "Byculla completed\n",
      "(81,)\n",
      "(81,)\n",
      "C ward completed\n",
      "(81,)\n",
      "(81,)\n",
      "Chembur completed\n",
      "(81,)\n",
      "(81,)\n",
      "Chincholi completed\n",
      "(81,)\n",
      "(81,)\n",
      "Colaba completed\n",
      "(81,)\n",
      "(81,)\n",
      "D Ward completed\n",
      "(81,)\n",
      "(81,)\n",
      "Dahisar completed\n",
      "(81,)\n",
      "(81,)\n",
      "Dindoshi completed\n",
      "(81,)\n",
      "(81,)\n",
      "F North completed\n",
      "(81,)\n",
      "(81,)\n",
      "F South completed\n",
      "(81,)\n",
      "(81,)\n",
      "G South completed\n",
      "(81,)\n",
      "(81,)\n",
      "Gowanpada completed\n",
      "(81,)\n",
      "(81,)\n",
      "H West ward completed\n",
      "(81,)\n",
      "(81,)\n",
      "K East ward completed\n",
      "(81,)\n",
      "(81,)\n",
      "K West ward completed\n",
      "(81,)\n",
      "(81,)\n",
      "Kandivali completed\n",
      "(81,)\n",
      "(81,)\n",
      "Kurla completed\n",
      "(81,)\n",
      "(81,)\n",
      "L ward completed\n",
      "(81,)\n",
      "(81,)\n",
      "M West ward completed\n",
      "(81,)\n",
      "(81,)\n",
      "MCGM 1 completed\n",
      "(81,)\n",
      "(81,)\n",
      "Malvani completed\n",
      "(81,)\n",
      "(81,)\n",
      "Marol completed\n",
      "(81,)\n",
      "(81,)\n",
      "Memonwada completed\n",
      "(81,)\n",
      "(81,)\n",
      "Mulund completed\n",
      "(81,)\n",
      "(81,)\n",
      "N ward completed\n",
      "(81,)\n",
      "(81,)\n",
      "Nair Hospital completed\n",
      "(81,)\n",
      "(81,)\n",
      "Nariman Fire completed\n",
      "(81,)\n",
      "(81,)\n",
      "Rawali camp completed\n",
      "(81,)\n",
      "(81,)\n",
      "S ward completed\n",
      "(81,)\n",
      "(81,)\n",
      "SWD Workshop dadar completed\n",
      "(81,)\n",
      "(81,)\n",
      "Thakare natya completed\n",
      "(81,)\n",
      "(81,)\n",
      "Vikhroli completed\n",
      "(81,)\n",
      "(81,)\n",
      "Worli completed\n",
      "(81,)\n",
      "(81,)\n",
      "vileparle W completed\n"
     ]
    }
   ],
   "source": [
    "for station in stations_ok_merged:\n",
    "    model = load_model(f'C:/Users/Admin/Desktop/Automation/my_best_cnn_model_only_prec_{station}_downscaling_2.h5')\n",
    "    predictions = []\n",
    "    mean_preds = []\n",
    "    std_preds = []\n",
    "    predictions, mean_preds, std_preds = generate_uncertainty_bands(model, X_test_prec_cnn_lstm_hindcast2023_concatenate)\n",
    "    predictions_today = predictions[:,-1,:]\n",
    "    predictions_1_day_lead = []\n",
    "\n",
    "    for i in range(predictions.shape[0]):\n",
    "        predicted_values = []\n",
    "\n",
    "        for j in range(0,predictions.shape[1]):\n",
    "            predicted_values.append(predictions[i,j,0])\n",
    "        predictions_1_day_lead.append(predicted_values)\n",
    "\n",
    "    predictions_1_day_lead = np.array(predictions_1_day_lead)\n",
    "    \n",
    "    predictions_2_day_lead = []\n",
    "\n",
    "    for i in range(predictions.shape[0]):\n",
    "    \n",
    "        predicted_values = []\n",
    "\n",
    "        for j in range(0,predictions.shape[1]):\n",
    "            predicted_values.append(predictions[i,j,1])\n",
    "        \n",
    "        predictions_2_day_lead.append(predicted_values)\n",
    "    \n",
    "    predictions_2_day_lead = np.array(predictions_2_day_lead)\n",
    "    \n",
    "    predictions_3_day_lead = []\n",
    "\n",
    "    for i in range(predictions.shape[0]):\n",
    "    \n",
    "        predicted_values = []\n",
    "\n",
    "        for j in range(0,predictions.shape[1]):\n",
    "            predicted_values.append(predictions[i,j,2])\n",
    "        \n",
    "        predictions_3_day_lead.append(predicted_values)\n",
    "    \n",
    "    predictions_3_day_lead = np.array(predictions_3_day_lead)\n",
    "    plt.ioff()\n",
    "    dates = pd.date_range(start =data_prec.index[0],end=pd.to_datetime(data_prec.index[0])+ timedelta(hours=71),freq='1D')\n",
    "    data_GFS_prec_stationwise_testing = {}\n",
    "    data_GFS_prec_stationwise = {}\n",
    "    \n",
    "    \n",
    "    data_GFS_prec_stationwise[station] = pd.DataFrame()\n",
    "    \n",
    "    station_lat = stations_coordinates.loc[station,'Lat (N)']\n",
    "    station_lon = stations_coordinates.loc[station, 'Long (E)']\n",
    "\n",
    "    closest_lat_lon = find_closest_pair(lat_lon, station_lat, station_lon)\n",
    "    closest_lat = str(closest_lat_lon[0])\n",
    "    closest_lon = str(closest_lat_lon[1])\n",
    "\n",
    "    selected_cols_testing = data_prec.filter(regex=f'{closest_lat}_{closest_lon}')\n",
    "    \n",
    "    data_GFS_prec_stationwise_testing[station] = copy.deepcopy(selected_cols_testing)\n",
    "    \n",
    "    data_GFS_prec_stationwise_daily = {}\n",
    "    data_GFS_prec_stationwise_testing_daily = {}\n",
    "    \n",
    "    data_GFS_prec_stationwise_testing_daily[f'{station}'] = pd.DataFrame(index=data_GFS_prec_stationwise_testing[f'{station}'].index,columns=['1','2','3'])\n",
    "    data_GFS_prec_stationwise_testing_daily[f'{station}'].iloc[:,0] = data_GFS_prec_stationwise_testing[f'{station}'].iloc[:,0:8].sum(axis = 1)\n",
    "    data_GFS_prec_stationwise_testing_daily[f'{station}'].iloc[:,1] = data_GFS_prec_stationwise_testing[f'{station}'].iloc[:,8:16].sum(axis = 1)\n",
    "    data_GFS_prec_stationwise_testing_daily[f'{station}'].iloc[:,2] = data_GFS_prec_stationwise_testing[f'{station}'].iloc[:,16:24].sum(axis = 1)\n",
    "    \n",
    "    y_pred_gfs = np.array(data_GFS_prec_stationwise_testing_daily[f'{station}']).astype(float)\n",
    "    \n",
    "    gfs1 = y_pred_gfs[:,0]\n",
    "    gfs2 = y_pred_gfs[:,1]\n",
    "    gfs3 = y_pred_gfs[:,2]\n",
    "    \n",
    "    dates_gfs_1daylead=pd.date_range(start='2023-05-25', end = start_day, freq='1D')\n",
    "    dates_gfs_2daylead=pd.date_range(start='2023-05-26', end = pd.to_datetime(start_day)+ timedelta(hours=24), freq='1D')\n",
    "    dates_gfs_3daylead=pd.date_range(start='2023-05-27', end = pd.to_datetime(start_day)+ timedelta(hours=48), freq='1D')\n",
    "    \n",
    "    j=0\n",
    "    for start_date in data_prec.index:\n",
    "        #dates = pd.date_range(start =start_date,end=pd.to_datetime(start_date)+ timedelta(hours=71),freq='1D')\n",
    "        dates = pd.date_range(start =pd.to_datetime(start_date)+ timedelta(minutes =30),end=pd.to_datetime(start_date)+ timedelta(hours=71,minutes =30),freq='1D')\n",
    "\n",
    "        #fig, ax = plt.subplots(figsize=(10, 6))\n",
    "        #data = predictions[:,j]\n",
    "        list1 = predictions_today[:,0]\n",
    "        list2 = predictions_today[:,1]\n",
    "        list3 = predictions_today[:,2]\n",
    "\n",
    "        gfs1 = y_pred_gfs[j,0]\n",
    "        gfs2 = y_pred_gfs[j,1]\n",
    "        gfs3 = y_pred_gfs[j,2]\n",
    "\n",
    "        # Combine the three lists into a single list\n",
    "        data = [list1, list2, list3]\n",
    "\n",
    "        # Create a figure and axis object\n",
    "        fig, ax = plt.subplots(figsize=(8, 6))\n",
    "\n",
    "        # Plot the box plots with fill color and set zorder\n",
    "        boxplot = ax.boxplot(data, patch_artist=True, medianprops={'color': 'black'}, zorder=1)\n",
    "\n",
    "        # Add scatter plot\n",
    "        scatter_x = [1, 2, 3]  # X-coordinates for scatter points\n",
    "        scatter_y = [gfs1, gfs2, gfs3]  # Y-coordinates for scatter points\n",
    "        scatter = ax.scatter(scatter_x, scatter_y, color='red', marker='*', s=70, label='GFS Forecast', zorder=2)\n",
    "\n",
    "        # Set colors for box plots\n",
    "        colors = ['lightblue', 'lightblue', 'lightblue']\n",
    "        for patch, color in zip(boxplot['boxes'], colors):\n",
    "            patch.set_facecolor(color)\n",
    "\n",
    "        # Add labels and title\n",
    "        ax.set_xticklabels([dates[0], dates[1], dates[2]], fontsize=12)\n",
    "        ax.set_ylabel('Daily Rainfall(mm)', fontsize=12)\n",
    "        ax.set_xlabel('Dates', fontsize=12)\n",
    "        ax.set_title(f'Predicted Daily Rainfall\\nInitialisation: {start_date}', fontsize=14)\n",
    "\n",
    "        # Set grid lines\n",
    "        ax.grid(True, linestyle='--', alpha=0.5)\n",
    "\n",
    "        # Adjust spacing\n",
    "        plt.tight_layout()\n",
    "\n",
    "       # Custom legend for box plot\n",
    "        box_legend = ax.legend(handles=boxplot['boxes'], labels=['GEFS Forecasts downscaled\\nby IITB with uncertainty band'], loc='upper left', bbox_to_anchor=(1, 1), fontsize=8)\n",
    "\n",
    "\n",
    "        # Create a separate axis for the scatter plot legend\n",
    "        ax_scatter_legend = fig.add_axes([0.83, 0.68 , 0.15, 0.15])  # Adjust the position and size as needed\n",
    "        scatter_legend = ax_scatter_legend.legend(handles=[scatter], labels=['Original GEFS Forecast from NCEP'], loc='upper left', bbox_to_anchor=(1, 1), fontsize=8)\n",
    "        ax_scatter_legend.axis('off')  # Turn off axis for scatter plot legend\n",
    "\n",
    "        #ax.legend(loc='upper left', bbox_to_anchor=(1, 1), fontsize=12)\n",
    "\n",
    "        # Add both legends to the plot\n",
    "        ax.add_artist(box_legend)\n",
    "\n",
    "\n",
    "        hour = str(f'{pd.to_datetime(start_date).hour:02}')\n",
    "        minutes = str(f'{pd.to_datetime(start_date).minute:02}')\n",
    "        seconds = str(f'{pd.to_datetime(start_date).second:02}')\n",
    "        date = str(pd.to_datetime(start_date).date())\n",
    "\n",
    "        # Save the plot as an image file (e.g., PNG or PDF) if needed\n",
    "        #plt.savefig(f'C:/Users/Admin/Desktop/GFS FORECASTS/boxplottimeseries/{station}/{station}_{date}_{hour}_{minutes}_{seconds}_1.jpg', bbox_inches='tight', dpi=300)\n",
    "        plt.savefig(f'C:/Users/Admin/Desktop/Automation/{station}/boxplot1.jpg', bbox_inches='tight', dpi=300)\n",
    "\n",
    "        # Show the plot\n",
    "        plt.close(fig)\n",
    "        j+=1\n",
    "        \n",
    "    # Sample time series data\n",
    "    #time_series_data = predictions_1_day_lead\n",
    "    print((pd.date_range(start='2023-05-25', end = pd.to_datetime(start_day)).shape))\n",
    "    print(predictions_1_day_lead.mean(axis=0).shape)\n",
    "    time_series_data = pd.DataFrame({\n",
    "        'Date':pd.date_range(start='2023-05-26', end = pd.to_datetime(start_day)+ timedelta(hours=24), freq='1D'),\n",
    "        'Value':predictions_1_day_lead.mean(axis=0)\n",
    "    })\n",
    "\n",
    "    # Sample box plot data\n",
    "    box_plot_data = predictions_today[:,0]\n",
    "\n",
    "    # Create a figure and a single subplot\n",
    "    fig, ax = plt.subplots(figsize=(6, 4))\n",
    "\n",
    "    # Convert the date to numeric representation\n",
    "    box_plot_date = pd.to_datetime(start_day) + timedelta(hours=24)\n",
    "    box_plot_num = mdates.date2num(box_plot_date)\n",
    "\n",
    "    # Plot the box plot\n",
    "    ax.boxplot(box_plot_data, vert=True, positions=[box_plot_num], widths=2)\n",
    "\n",
    "    # Plot the time series\n",
    "    #ax.plot(time_series_data['Date'], time_series_data['Value'], color='red')\n",
    "    for i in range(predictions_1_day_lead.shape[0]):\n",
    "        ax.plot(time_series_data['Date'],predictions_1_day_lead[i], color='red', alpha=0.4, linewidth=0.01)\n",
    "    ax.plot(time_series_data['Date'], time_series_data['Value'], color='red',linewidth=0.8)\n",
    "    \n",
    "    # Set x-axis limit to show only dates from 25th May to 27th July 2023\n",
    "    ax.set_xlim(pd.to_datetime('2023-05-25'), pd.to_datetime(start_day)+ timedelta(hours=71))\n",
    "\n",
    "    # Set x-axis ticks at the start of each week\n",
    "    weekly_ticks = pd.date_range(start='2023-05-25', end=pd.to_datetime(start_day)+ timedelta(hours=71), freq='w')\n",
    "    ax.set_xticks(weekly_ticks)\n",
    "\n",
    "    # Format the x-axis date labels as 'YYYY-MM-DD'\n",
    "    date_format = mdates.DateFormatter('%b-%d')\n",
    "    ax.xaxis.set_major_formatter(date_format)\n",
    "    plt.xticks(rotation=45)\n",
    "\n",
    "    # Set y-axis limits to ensure both plots share the same scale\n",
    "    y_min = min(min(time_series_data['Value']), min(box_plot_data))\n",
    "    y_max = max(max(time_series_data['Value']), max(box_plot_data))\n",
    "    ax.set_ylim(y_min - 5, y_max * 1.5)\n",
    "\n",
    "    # Set labels and title\n",
    "    ax.set_xlabel('Date')\n",
    "    ax.set_ylabel('Rainfall (mm)')\n",
    "    ax.set_title('1 day lead')\n",
    "\n",
    "    # Show the plot\n",
    "    plt.tight_layout()\n",
    "\n",
    "    \n",
    "    # Save the plot as an image file (e.g., PNG or PDF) if needed\n",
    "    #plt.savefig(f'C:/Users/Admin/Desktop/GFS FORECASTS/boxplottimeseries/{station}/{date}_{hour}_{minutes}_{seconds}1dayleadtime_2023_1.jpg', bbox_inches='tight', dpi=300)\n",
    "    plt.savefig(f'C:/Users/Admin/Desktop/Automation/{station}/1dayleadtime_2023.jpg', bbox_inches='tight', dpi=300)\n",
    "\n",
    "    # Show the plot\n",
    "    plt.close(fig)\n",
    "    \n",
    "    time_series_data = pd.DataFrame({\n",
    "        'Date':pd.date_range(start='2023-05-27', end = pd.to_datetime(start_day)+ timedelta(hours=48), freq='1D'),\n",
    "        'Value':predictions_2_day_lead.mean(axis=0)\n",
    "    })\n",
    "\n",
    "    # Sample box plot data\n",
    "    box_plot_data = predictions_today[:,1]\n",
    "\n",
    "    # Create a figure and a single subplot\n",
    "    fig, ax = plt.subplots(figsize=(6, 4))\n",
    "\n",
    "    # Convert the date to numeric representation\n",
    "    box_plot_date =  pd.to_datetime(start_day) +  pd.Timedelta(2, \"d\")\n",
    "    box_plot_num = mdates.date2num(box_plot_date)\n",
    "\n",
    "    # Plot the box plot\n",
    "    ax.boxplot(box_plot_data, vert=True, positions=[box_plot_num], widths=2)\n",
    "\n",
    "    # Plot the time series\n",
    "    #ax.plot(time_series_data['Date'], time_series_data['Value'], color='red')\n",
    "    for i in range(predictions_2_day_lead.shape[0]):\n",
    "        ax.plot(time_series_data['Date'],predictions_2_day_lead[i], color='red', alpha=0.4, linewidth=0.01)\n",
    "    ax.plot(time_series_data['Date'], time_series_data['Value'], color='red',linewidth=0.8)\n",
    "\n",
    "    # Set x-axis limit to show only dates from 25th May to 27th July 2023\n",
    "    ax.set_xlim(pd.to_datetime('2023-05-25'), pd.to_datetime(start_day)+ timedelta(hours=95))\n",
    "\n",
    "    # Set x-axis ticks at the start of each week\n",
    "    weekly_ticks = pd.date_range(start='2023-05-25', end=pd.to_datetime(start_day)+ timedelta(hours=95), freq='w')\n",
    "    ax.set_xticks(weekly_ticks)\n",
    "\n",
    "    # Format the x-axis date labels as 'YYYY-MM-DD'\n",
    "    date_format = mdates.DateFormatter('%b-%d')\n",
    "    ax.xaxis.set_major_formatter(date_format)\n",
    "    plt.xticks(rotation=45)\n",
    "\n",
    "    # Set y-axis limits to ensure both plots share the same scale\n",
    "    y_min = min(min(time_series_data['Value']), min(box_plot_data))\n",
    "    y_max = max(max(time_series_data['Value']), max(box_plot_data))\n",
    "    ax.set_ylim(y_min - 5, y_max * 1.5)\n",
    "\n",
    "    # Set labels and title\n",
    "    ax.set_xlabel('Date')\n",
    "    ax.set_ylabel('Rainfall (mm)')\n",
    "    ax.set_title('2 day lead')\n",
    "\n",
    "    # Show the plot\n",
    "    plt.tight_layout()\n",
    "    \n",
    "    # Save the plot as an image file (e.g., PNG or PDF) if needed\n",
    "    #plt.savefig(f'C:/Users/Admin/Desktop/GFS FORECASTS/boxplottimeseries/{station}/{date}_{hour}_{minutes}_{seconds}2dayleadtime_2023_1.jpg', bbox_inches='tight', dpi=300)\n",
    "    plt.savefig(f'C:/Users/Admin/Desktop/Automation/{station}/2dayleadtime_2023.jpg', bbox_inches='tight', dpi=300)\n",
    "\n",
    "    # Show the plot\n",
    "    plt.close(fig)\n",
    "    \n",
    "    time_series_data = pd.DataFrame({\n",
    "        'Date':pd.date_range(start='2023-05-28', end = pd.to_datetime(start_day)+ timedelta(hours=72), freq='1D'),\n",
    "        'Value':predictions_3_day_lead.mean(axis=0)\n",
    "    })\n",
    "\n",
    "    # Sample box plot data\n",
    "    box_plot_data = predictions_today[:,2]\n",
    "\n",
    "    # Create a figure and a single subplot\n",
    "    fig, ax = plt.subplots(figsize=(6, 4))\n",
    "\n",
    "    # Convert the date to numeric representation\n",
    "    box_plot_date =  pd.to_datetime(start_day) +  pd.Timedelta(3, \"d\")\n",
    "    box_plot_num = mdates.date2num(box_plot_date)\n",
    "\n",
    "    # Plot the box plot\n",
    "    ax.boxplot(box_plot_data, vert=True, positions=[box_plot_num], widths=2)\n",
    "\n",
    "    # Plot the time series\n",
    "    #ax.plot(time_series_data['Date'], time_series_data['Value'], color='red')\n",
    "    for i in range(predictions_3_day_lead.shape[0]):\n",
    "        ax.plot(time_series_data['Date'],predictions_3_day_lead[i], color='red', alpha=0.4, linewidth=0.01)\n",
    "    ax.plot(time_series_data['Date'], time_series_data['Value'], color='red',linewidth=0.8)\n",
    "\n",
    "    # Set x-axis limit to show only dates from 25th May to 27th July 2023\n",
    "    ax.set_xlim(pd.to_datetime('2023-05-25'), pd.to_datetime(start_day)+ timedelta(hours=105))\n",
    "\n",
    "    # Set x-axis ticks at the start of each week\n",
    "    weekly_ticks = pd.date_range(start='2023-05-25', end=pd.to_datetime(start_day)+ timedelta(hours=105), freq='w')\n",
    "    ax.set_xticks(weekly_ticks)\n",
    "\n",
    "    # Format the x-axis date labels as 'YYYY-MM-DD'\n",
    "    date_format = mdates.DateFormatter('%b-%d')\n",
    "    ax.xaxis.set_major_formatter(date_format)\n",
    "    plt.xticks(rotation=45)\n",
    "\n",
    "    # Set y-axis limits to ensure both plots share the same scale\n",
    "    y_min = min(min(time_series_data['Value']), min(box_plot_data))\n",
    "    y_max = max(max(time_series_data['Value']), max(box_plot_data))\n",
    "    ax.set_ylim(y_min - 5, y_max * 1.5)\n",
    "\n",
    "    # Set labels and title\n",
    "    ax.set_xlabel('Date')\n",
    "    ax.set_ylabel('Rainfall (mm)')\n",
    "    ax.set_title('3 day lead')\n",
    "\n",
    "    # Show the plot\n",
    "    plt.tight_layout()\n",
    "    \n",
    "    #plt.savefig(f'C:/Users/Admin/Desktop/GFS FORECASTS/boxplottimeseries/{station}/{date}_{hour}_{minutes}_{seconds}3dayleadtime_2023_1.jpg', bbox_inches='tight', dpi=300)\n",
    "    plt.savefig(f'C:/Users/Admin/Desktop/Automation/{station}/3dayleadtime_2023.jpg', bbox_inches='tight', dpi=300)\n",
    "\n",
    "    # Show the plot\n",
    "    plt.close(fig)\n",
    "\n",
    "    # Show the plot\n",
    "    plt.close(fig)\n",
    "    print(f'{station} completed')"
   ]
  },
  {
   "cell_type": "code",
   "execution_count": null,
   "id": "5a73ca30",
   "metadata": {
    "execution": {
     "iopub.execute_input": "2023-07-27T09:12:53.115354Z",
     "iopub.status.busy": "2023-07-27T09:12:53.115354Z",
     "iopub.status.idle": "2023-07-27T09:12:53.118775Z",
     "shell.execute_reply": "2023-07-27T09:12:53.118273Z"
    }
   },
   "outputs": [],
   "source": [
    "with open('C:/Users/Admin/Desktop/Automation/X_test_prec_cnn_lstm_reshaped.pickle', 'wb') as file:\n",
    "    pickle.dump(X_test_prec_cnn_lstm_hindcast2023_concatenate, file)"
   ]
  }
 ],
 "metadata": {
  "kernelspec": {
   "display_name": "Python 3 (ipykernel)",
   "language": "python",
   "name": "python3"
  },
  "language_info": {
   "codemirror_mode": {
    "name": "ipython",
    "version": 3
   },
   "file_extension": ".py",
   "mimetype": "text/x-python",
   "name": "python",
   "nbconvert_exporter": "python",
   "pygments_lexer": "ipython3",
   "version": "3.11.4"
  }
 },
 "nbformat": 4,
 "nbformat_minor": 5
}
