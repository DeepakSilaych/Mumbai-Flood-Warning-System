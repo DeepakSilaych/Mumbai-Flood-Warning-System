{
 "cells": [
  {
   "cell_type": "code",
   "execution_count": null,
   "id": "872922d2",
   "metadata": {
    "scrolled": true
   },
   "outputs": [],
   "source": [
    "# Run data_downloading.ipynb\n",
    "%run \"C:/Users/Admin/Desktop/Automation/GFS_1day_download-3hour.ipynb\"\n",
    "\n",
    "# Run data_processing.ipynb\n",
    "%run \"C:/Users/Admin/Desktop/Automation/boxplot17.30-Copy1.ipynb\""
   ]
  }
 ],
 "metadata": {
  "kernelspec": {
   "display_name": "Python 3 (ipykernel)",
   "language": "python",
   "name": "python3"
  },
  "language_info": {
   "codemirror_mode": {
    "name": "ipython",
    "version": 3
   },
   "file_extension": ".py",
   "mimetype": "text/x-python",
   "name": "python",
   "nbconvert_exporter": "python",
   "pygments_lexer": "ipython3",
   "version": "3.11.4"
  }
 },
 "nbformat": 4,
 "nbformat_minor": 5
}
